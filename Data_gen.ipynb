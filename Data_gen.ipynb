{
 "cells": [
  {
   "cell_type": "markdown",
   "metadata": {},
   "source": [
    "# 테스트 데이터 생성하기\n"
   ]
  },
  {
   "cell_type": "markdown",
   "metadata": {},
   "source": [
    "아래 코드의 bucketName에 SAM 배포시 생성 된 forecast bucket 이름을 넣어 줍니다. \n",
    "\n",
    "예시> `bucketName='forecast-demo-forecastbucket-1dcxlj3j2zvc3'`"
   ]
  },
  {
   "cell_type": "code",
   "execution_count": 1,
   "metadata": {},
   "outputs": [],
   "source": [
    "import pandas as pd \n",
    "import numpy as np\n",
    "import random\n",
    "import datetime\n",
    "import boto3\n",
    "from tqdm import tqdm\n",
    "\n",
    "bucketName= #forecast bucket 이름을 넣어주세요."
   ]
  },
  {
   "cell_type": "markdown",
   "metadata": {},
   "source": [
    "2018년부터 2019년까지 2년간의 테스트 데이터를 생성 합니다.\n",
    "일주일 중 하루 또는 이틀(주말) 판매량이 증가하는 상품 데이터(각 500개 아이템)와 꾸준히 판매량이 증가하는 상품 데이터(1000개 아이템), 꾸준한 판매량을 유지하는 상품 데이터를 임의로 만들어 봅니다.\n"
   ]
  },
  {
   "cell_type": "code",
   "execution_count": null,
   "metadata": {},
   "outputs": [],
   "source": [
    "region='ap-northeast-2'\n",
    "session = boto3.Session(region_name=region) \n",
    "s3 = session.client('s3')\n",
    "notebook_rawdata_path='data/raw_data/forecast_data.csv'\n",
    "forecast_rawdata_path='raw_data/forecast_data.csv'\n",
    "\n",
    "df_total=pd.DataFrame()\n",
    "# dates = pd.date_range('20180101', periods=365*2)\n",
    "start = datetime.datetime.strptime(\"2018/01/01\", \"%Y/%m/%d\")\n",
    "end = datetime.datetime.strptime(\"2019/12/31\", \"%Y/%m/%d\")\n",
    "date_generated = [start + datetime.timedelta(days=x) for x in range(0, (end-start).days+1)]\n",
    "\n",
    "def random_date(first_date, second_date):\n",
    "    first_timestamp = int(first_date.timestamp())\n",
    "    second_timestamp = int(second_date.timestamp())\n",
    "    random_timestamp = random.randint(first_timestamp, second_timestamp)\n",
    "    return datetime.fromtimestamp(random_timestamp)\n",
    "\n",
    "\n",
    "n=1 #Base number\n",
    "item_num1=500 #Numbers of items for 1day promotion\n",
    "item_num2=500 #Numbers of items for 2day promotion\n",
    "item_num3=1000 #Numbers of itmes for steady increasing trend\n",
    "item_num4=500 #Numbers of items for stable trend\n",
    "\n",
    "# Generate special day(1day promotion a week) trend data \n",
    "for i in tqdm(range(item_num1)):\n",
    "    data_list = []\n",
    "    \n",
    "    tg_date = random.randrange(6)\n",
    "\n",
    "    tg_date_value = random.randrange(200, 500)\n",
    "    tg_date_value_gap = random.randrange(10, 200)\n",
    "    \n",
    "    nm_date_value = random.randrange(150)\n",
    "    nm_date_value_gap = random.randrange(1,50)\n",
    "    \n",
    "    for day in date_generated:\n",
    "        if(day.weekday() == tg_date):\n",
    "            data_list.append(random.sample(range(tg_date_value,tg_date_value+tg_date_value_gap),1)[0])\n",
    "        else:\n",
    "            data_list.append(random.sample(range(nm_date_value,nm_date_value+nm_date_value_gap),1)[0])\n",
    "    \n",
    "    df_1day = pd.DataFrame({'timestamp': [date.strftime('%Y/%m/%d') for date in date_generated],\n",
    "                            'item_id': 'item'+str(n+i),\n",
    "                            'target_value': data_list})\n",
    "    \n",
    "    df_total=df_total.append(df_1day)\n",
    "\n",
    "\n",
    "# Generate special day(2day promotion a week) trend data \n",
    "n=n+item_num1\n",
    "for i in tqdm(range(item_num2)):\n",
    "    data_list = []\n",
    "    \n",
    "    list = [0,1,2,3,4,5,6]\n",
    "    tg_date_list = random.sample(list,2)\n",
    "\n",
    "    tg_date_value = random.randrange(200, 500)\n",
    "    tg_date_value_gap = random.randrange(10, 200)\n",
    "    \n",
    "    nm_date_value = random.randrange(150)\n",
    "    nm_date_value_gap = random.randrange(1,50)\n",
    "\n",
    "    for day in date_generated:\n",
    "        if(day.weekday() == tg_date_list[0] or day.weekday() == tg_date_list[1]):\n",
    "            data_list.append(random.sample(range(tg_date_value,tg_date_value+tg_date_value_gap),1)[0])\n",
    "        else:\n",
    "            data_list.append(random.sample(range(nm_date_value,nm_date_value+nm_date_value_gap),1)[0])\n",
    "\n",
    "    df_2day = pd.DataFrame({'timestamp': [date.strftime('%Y/%m/%d') for date in date_generated],\n",
    "                            'item_id': 'item'+str(n+i),\n",
    "                            'target_value': data_list})\n",
    "    \n",
    "    df_total=df_total.append(df_2day)\n",
    "    \n",
    "# Generate steady increasing trend data\n",
    "n=n+item_num2\n",
    "for i in tqdm(range(item_num3)):\n",
    "    results = np.arange(365*2)*random.uniform(0, 0.5)\n",
    "    noise = np.random.randn(365*2)*random.randrange(50)\n",
    "    noise = [abs(i) for i in noise]\n",
    "\n",
    "    results += noise\n",
    "    results = [int(i) for i in results]\n",
    "    \n",
    "    df_incline = pd.DataFrame({'timestamp': [date.strftime('%Y/%m/%d') for date in date_generated],\n",
    "                               'item_id': 'item'+str(n+i),\n",
    "                               'target_value': results})\n",
    "    \n",
    "    df_total=df_total.append(df_incline)\n",
    "\n",
    "# Generate stable trend data\n",
    "n=n+item_num3\n",
    "for i in tqdm(range(item_num4)):\n",
    "    r_range = random.randrange(150, 1000)\n",
    "    df_normal = pd.DataFrame({'timestamp': [date.strftime('%Y/%m/%d') for date in date_generated],\n",
    "                              'item_id': 'item'+str(n+i),\n",
    "                              'target_value': [random.randrange(r_range-100,r_range) for j in range(365*2)]})\n",
    "    df_total=df_total.append(df_normal)\n"
   ]
  },
  {
   "cell_type": "markdown",
   "metadata": {},
   "source": [
    "생성된 데이터를 csv 파일 형태로 forecast bucket의 raw_data 폴더에 업로드 합니다."
   ]
  },
  {
   "cell_type": "code",
   "execution_count": null,
   "metadata": {},
   "outputs": [],
   "source": [
    "df_total.to_csv(notebook_rawdata_path, index=False, header=True)\n",
    "s3.upload_file(notebook_rawdata_path, bucketName, forecast_rawdata_path)\n",
    "print('The csv file is uploaded.')"
   ]
  }
 ],
 "metadata": {
  "kernelspec": {
   "display_name": "conda_python3",
   "language": "python",
   "name": "conda_python3"
  },
  "language_info": {
   "codemirror_mode": {
    "name": "ipython",
    "version": 3
   },
   "file_extension": ".py",
   "mimetype": "text/x-python",
   "name": "python",
   "nbconvert_exporter": "python",
   "pygments_lexer": "ipython3",
   "version": "3.6.10"
  }
 },
 "nbformat": 4,
 "nbformat_minor": 4
}
